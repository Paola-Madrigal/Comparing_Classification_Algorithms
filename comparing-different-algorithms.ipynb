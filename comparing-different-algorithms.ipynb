{
 "cells": [
  {
   "cell_type": "markdown",
   "metadata": {},
   "source": [
    "## Compare between different classification algorithms:\n",
    "1. **Logistic Regression**\n",
    "2. **Random Forest**\n",
    "3. **Support Vector Machine**\n",
    "4. **K-Nearest Neighbors**\n",
    "5. **Neural Network**"
   ]
  },
  {
   "cell_type": "code",
   "execution_count": 1,
   "metadata": {
    "_cell_guid": "b1076dfc-b9ad-4769-8c92-a6c4dae69d19",
    "_uuid": "8f2839f25d086af736a60e9eeb907d3b93b6e0e5",
    "execution": {
     "iopub.execute_input": "2021-12-08T18:26:35.260124Z",
     "iopub.status.busy": "2021-12-08T18:26:35.259747Z",
     "iopub.status.idle": "2021-12-08T18:26:35.275682Z",
     "shell.execute_reply": "2021-12-08T18:26:35.275061Z",
     "shell.execute_reply.started": "2021-12-08T18:26:35.260026Z"
    }
   },
   "outputs": [],
   "source": [
    "# GENERAL LIBRARIES\n",
    "\n",
    "import numpy as np\n",
    "import pandas as pd\n",
    "import matplotlib.pyplot as plt"
   ]
  },
  {
   "cell_type": "markdown",
   "metadata": {},
   "source": [
    "### Loading the data and data overview"
   ]
  },
  {
   "cell_type": "code",
   "execution_count": 2,
   "metadata": {
    "execution": {
     "iopub.execute_input": "2021-12-08T18:26:35.277883Z",
     "iopub.status.busy": "2021-12-08T18:26:35.277625Z",
     "iopub.status.idle": "2021-12-08T18:26:35.304681Z",
     "shell.execute_reply": "2021-12-08T18:26:35.304095Z",
     "shell.execute_reply.started": "2021-12-08T18:26:35.277834Z"
    }
   },
   "outputs": [
    {
     "data": {
      "text/html": [
       "<div>\n",
       "<style scoped>\n",
       "    .dataframe tbody tr th:only-of-type {\n",
       "        vertical-align: middle;\n",
       "    }\n",
       "\n",
       "    .dataframe tbody tr th {\n",
       "        vertical-align: top;\n",
       "    }\n",
       "\n",
       "    .dataframe thead th {\n",
       "        text-align: right;\n",
       "    }\n",
       "</style>\n",
       "<table border=\"1\" class=\"dataframe\">\n",
       "  <thead>\n",
       "    <tr style=\"text-align: right;\">\n",
       "      <th></th>\n",
       "      <th>age</th>\n",
       "      <th>interest</th>\n",
       "      <th>success</th>\n",
       "    </tr>\n",
       "  </thead>\n",
       "  <tbody>\n",
       "    <tr>\n",
       "      <th>0</th>\n",
       "      <td>23.657801</td>\n",
       "      <td>18.859917</td>\n",
       "      <td>0.0</td>\n",
       "    </tr>\n",
       "    <tr>\n",
       "      <th>1</th>\n",
       "      <td>22.573729</td>\n",
       "      <td>17.969223</td>\n",
       "      <td>0.0</td>\n",
       "    </tr>\n",
       "    <tr>\n",
       "      <th>2</th>\n",
       "      <td>32.553424</td>\n",
       "      <td>29.463651</td>\n",
       "      <td>0.0</td>\n",
       "    </tr>\n",
       "    <tr>\n",
       "      <th>3</th>\n",
       "      <td>6.718035</td>\n",
       "      <td>25.704665</td>\n",
       "      <td>1.0</td>\n",
       "    </tr>\n",
       "    <tr>\n",
       "      <th>4</th>\n",
       "      <td>14.401919</td>\n",
       "      <td>16.770856</td>\n",
       "      <td>0.0</td>\n",
       "    </tr>\n",
       "  </tbody>\n",
       "</table>\n",
       "</div>"
      ],
      "text/plain": [
       "         age   interest  success\n",
       "0  23.657801  18.859917      0.0\n",
       "1  22.573729  17.969223      0.0\n",
       "2  32.553424  29.463651      0.0\n",
       "3   6.718035  25.704665      1.0\n",
       "4  14.401919  16.770856      0.0"
      ]
     },
     "execution_count": 2,
     "metadata": {},
     "output_type": "execute_result"
    }
   ],
   "source": [
    "raw_data = pd.read_csv('classification.csv')\n",
    "df = raw_data.copy()\n",
    "df.head()"
   ]
  },
  {
   "cell_type": "code",
   "execution_count": 3,
   "metadata": {
    "execution": {
     "iopub.execute_input": "2021-12-08T18:26:35.306211Z",
     "iopub.status.busy": "2021-12-08T18:26:35.305985Z",
     "iopub.status.idle": "2021-12-08T18:26:35.325897Z",
     "shell.execute_reply": "2021-12-08T18:26:35.325194Z",
     "shell.execute_reply.started": "2021-12-08T18:26:35.306184Z"
    }
   },
   "outputs": [
    {
     "data": {
      "text/html": [
       "<div>\n",
       "<style scoped>\n",
       "    .dataframe tbody tr th:only-of-type {\n",
       "        vertical-align: middle;\n",
       "    }\n",
       "\n",
       "    .dataframe tbody tr th {\n",
       "        vertical-align: top;\n",
       "    }\n",
       "\n",
       "    .dataframe thead th {\n",
       "        text-align: right;\n",
       "    }\n",
       "</style>\n",
       "<table border=\"1\" class=\"dataframe\">\n",
       "  <thead>\n",
       "    <tr style=\"text-align: right;\">\n",
       "      <th></th>\n",
       "      <th>age</th>\n",
       "      <th>interest</th>\n",
       "      <th>success</th>\n",
       "    </tr>\n",
       "  </thead>\n",
       "  <tbody>\n",
       "    <tr>\n",
       "      <th>count</th>\n",
       "      <td>297.000000</td>\n",
       "      <td>297.000000</td>\n",
       "      <td>297.000000</td>\n",
       "    </tr>\n",
       "    <tr>\n",
       "      <th>mean</th>\n",
       "      <td>23.709718</td>\n",
       "      <td>46.986527</td>\n",
       "      <td>0.569024</td>\n",
       "    </tr>\n",
       "    <tr>\n",
       "      <th>std</th>\n",
       "      <td>8.864000</td>\n",
       "      <td>21.956447</td>\n",
       "      <td>0.496049</td>\n",
       "    </tr>\n",
       "    <tr>\n",
       "      <th>min</th>\n",
       "      <td>2.347560</td>\n",
       "      <td>-0.852800</td>\n",
       "      <td>0.000000</td>\n",
       "    </tr>\n",
       "    <tr>\n",
       "      <th>25%</th>\n",
       "      <td>17.002148</td>\n",
       "      <td>28.689067</td>\n",
       "      <td>0.000000</td>\n",
       "    </tr>\n",
       "    <tr>\n",
       "      <th>50%</th>\n",
       "      <td>23.283644</td>\n",
       "      <td>45.695926</td>\n",
       "      <td>1.000000</td>\n",
       "    </tr>\n",
       "    <tr>\n",
       "      <th>75%</th>\n",
       "      <td>30.661149</td>\n",
       "      <td>65.171876</td>\n",
       "      <td>1.000000</td>\n",
       "    </tr>\n",
       "    <tr>\n",
       "      <th>max</th>\n",
       "      <td>45.773729</td>\n",
       "      <td>97.175508</td>\n",
       "      <td>1.000000</td>\n",
       "    </tr>\n",
       "  </tbody>\n",
       "</table>\n",
       "</div>"
      ],
      "text/plain": [
       "              age    interest     success\n",
       "count  297.000000  297.000000  297.000000\n",
       "mean    23.709718   46.986527    0.569024\n",
       "std      8.864000   21.956447    0.496049\n",
       "min      2.347560   -0.852800    0.000000\n",
       "25%     17.002148   28.689067    0.000000\n",
       "50%     23.283644   45.695926    1.000000\n",
       "75%     30.661149   65.171876    1.000000\n",
       "max     45.773729   97.175508    1.000000"
      ]
     },
     "execution_count": 3,
     "metadata": {},
     "output_type": "execute_result"
    }
   ],
   "source": [
    "# Summary table\n",
    "df.describe()"
   ]
  },
  {
   "cell_type": "markdown",
   "metadata": {},
   "source": [
    "From the summary table, we can note:\n",
    "* We don't have null values (all counts are 297)\n",
    "* Success samples are balanced (0.57)\n",
    "* Ranges of age and interest variables"
   ]
  },
  {
   "cell_type": "code",
   "execution_count": 4,
   "metadata": {
    "execution": {
     "iopub.execute_input": "2021-12-08T18:26:35.327605Z",
     "iopub.status.busy": "2021-12-08T18:26:35.326998Z",
     "iopub.status.idle": "2021-12-08T18:26:35.655493Z",
     "shell.execute_reply": "2021-12-08T18:26:35.654581Z",
     "shell.execute_reply.started": "2021-12-08T18:26:35.327571Z"
    }
   },
   "outputs": [
    {
     "data": {
      "image/png": "[encoded data removed]",
      "text/plain": [
       "<Figure size 1296x288 with 2 Axes>"
      ]
     },
     "metadata": {
      "needs_background": "light"
     },
     "output_type": "display_data"
    }
   ],
   "source": [
    "# Visualization of age and interest vs success\n",
    "fig, ax = plt.subplots(nrows = 1, ncols = 2, figsize = (18,4))\n",
    "# age vs success\n",
    "ax[0].scatter(df['age'], df['success'])\n",
    "ax[0].set_title('Age vs. Success')\n",
    "ax[0].set_xlabel('Age')\n",
    "ax[0].set_ylabel('Success')\n",
    "# interest vs success\n",
    "ax[1].scatter(df['interest'], df['success'])\n",
    "ax[1].set_title('Interest vs. Success')\n",
    "ax[1].set_xlabel('Interest')\n",
    "ax[1].set_ylabel('Success')\n",
    "# Show plot\n",
    "plt.show()"
   ]
  },
  {
   "cell_type": "markdown",
   "metadata": {},
   "source": [
    "### Data Preprocessing"
   ]
  },
  {
   "cell_type": "code",
   "execution_count": 5,
   "metadata": {
    "execution": {
     "iopub.execute_input": "2021-12-08T18:26:35.657801Z",
     "iopub.status.busy": "2021-12-08T18:26:35.657559Z",
     "iopub.status.idle": "2021-12-08T18:26:35.663455Z",
     "shell.execute_reply": "2021-12-08T18:26:35.662843Z",
     "shell.execute_reply.started": "2021-12-08T18:26:35.657771Z"
    }
   },
   "outputs": [],
   "source": [
    "# Checkpoint 1\n",
    "unsplitted_data = df.copy()\n",
    "inputs = unsplitted_data.drop('success', axis = 1)\n",
    "targets = unsplitted_data['success']"
   ]
  },
  {
   "cell_type": "markdown",
   "metadata": {},
   "source": [
    "**Splitting data into train and test**"
   ]
  },
  {
   "cell_type": "code",
   "execution_count": 6,
   "metadata": {
    "execution": {
     "iopub.execute_input": "2021-12-08T18:26:35.664991Z",
     "iopub.status.busy": "2021-12-08T18:26:35.664334Z",
     "iopub.status.idle": "2021-12-08T18:26:36.100468Z",
     "shell.execute_reply": "2021-12-08T18:26:36.099615Z",
     "shell.execute_reply.started": "2021-12-08T18:26:35.664954Z"
    }
   },
   "outputs": [],
   "source": [
    "# Splitting data library\n",
    "from sklearn.model_selection import train_test_split"
   ]
  },
  {
   "cell_type": "code",
   "execution_count": 7,
   "metadata": {
    "execution": {
     "iopub.execute_input": "2021-12-08T18:26:36.102428Z",
     "iopub.status.busy": "2021-12-08T18:26:36.101793Z",
     "iopub.status.idle": "2021-12-08T18:26:36.112895Z",
     "shell.execute_reply": "2021-12-08T18:26:36.111875Z",
     "shell.execute_reply.started": "2021-12-08T18:26:36.102383Z"
    }
   },
   "outputs": [
    {
     "name": "stdout",
     "output_type": "stream",
     "text": [
      "X-train shape (237, 2), X-test shape (60, 2), Y-train shape (237,), Y-test shape (60,)\n"
     ]
    }
   ],
   "source": [
    "x_train_unscaled, x_test_unscaled, y_train, y_test = train_test_split(inputs, targets, train_size = 0.8, shuffle = True,\n",
    "                                                                     random_state = 42)\n",
    "x_train_unscaled = x_train_unscaled.reset_index(drop = True)\n",
    "x_test_unscaled = x_test_unscaled.reset_index(drop = True)\n",
    "y_train = y_train.reset_index(drop = True)\n",
    "y_test = y_test.reset_index(drop = True)\n",
    "\n",
    "print(\"X-train shape {}, X-test shape {}, Y-train shape {}, Y-test shape {}\".format(x_train_unscaled.shape, \n",
    "                                                                                    x_test_unscaled.shape,\n",
    "                                                                                    y_train.shape, y_test.shape))"
   ]
  },
  {
   "cell_type": "markdown",
   "metadata": {},
   "source": [
    "**Standardize data**"
   ]
  },
  {
   "cell_type": "code",
   "execution_count": 8,
   "metadata": {
    "execution": {
     "iopub.execute_input": "2021-12-08T18:26:36.115311Z",
     "iopub.status.busy": "2021-12-08T18:26:36.114954Z",
     "iopub.status.idle": "2021-12-08T18:26:36.126391Z",
     "shell.execute_reply": "2021-12-08T18:26:36.125553Z",
     "shell.execute_reply.started": "2021-12-08T18:26:36.11528Z"
    }
   },
   "outputs": [],
   "source": [
    "# Scaling library\n",
    "from sklearn.preprocessing import StandardScaler"
   ]
  },
  {
   "cell_type": "code",
   "execution_count": 9,
   "metadata": {
    "execution": {
     "iopub.execute_input": "2021-12-08T18:26:36.128405Z",
     "iopub.status.busy": "2021-12-08T18:26:36.127766Z",
     "iopub.status.idle": "2021-12-08T18:26:36.146076Z",
     "shell.execute_reply": "2021-12-08T18:26:36.144944Z",
     "shell.execute_reply.started": "2021-12-08T18:26:36.128365Z"
    }
   },
   "outputs": [
    {
     "name": "stdout",
     "output_type": "stream",
     "text": [
      "X-train shape (237, 2), X-test shape (60, 2)\n"
     ]
    }
   ],
   "source": [
    "scaler = StandardScaler()\n",
    "scaler.fit(x_train_unscaled)\n",
    "x_train_scaled = scaler.transform(x_train_unscaled)\n",
    "x_test_scaled = scaler.transform(x_test_unscaled)\n",
    "print(\"X-train shape {}, X-test shape {}\".format(x_train_scaled.shape, x_test_scaled.shape))"
   ]
  },
  {
   "cell_type": "markdown",
   "metadata": {},
   "source": [
    "## 1. Logistic Regression"
   ]
  },
  {
   "cell_type": "code",
   "execution_count": 10,
   "metadata": {
    "execution": {
     "iopub.execute_input": "2021-12-08T18:26:36.148222Z",
     "iopub.status.busy": "2021-12-08T18:26:36.147332Z",
     "iopub.status.idle": "2021-12-08T18:26:36.180709Z",
     "shell.execute_reply": "2021-12-08T18:26:36.179876Z",
     "shell.execute_reply.started": "2021-12-08T18:26:36.148175Z"
    }
   },
   "outputs": [],
   "source": [
    "# Libraries\n",
    "from sklearn.linear_model import LogisticRegression\n",
    "from sklearn import metrics"
   ]
  },
  {
   "cell_type": "markdown",
   "metadata": {},
   "source": [
    "**Fitting the model**"
   ]
  },
  {
   "cell_type": "code",
   "execution_count": 11,
   "metadata": {
    "execution": {
     "iopub.execute_input": "2021-12-08T19:05:11.993347Z",
     "iopub.status.busy": "2021-12-08T19:05:11.993043Z",
     "iopub.status.idle": "2021-12-08T19:05:12.002026Z",
     "shell.execute_reply": "2021-12-08T19:05:12.000908Z",
     "shell.execute_reply.started": "2021-12-08T19:05:11.993315Z"
    }
   },
   "outputs": [
    {
     "data": {
      "text/plain": [
       "LogisticRegression()"
      ]
     },
     "execution_count": 11,
     "metadata": {},
     "output_type": "execute_result"
    }
   ],
   "source": [
    "log_model = LogisticRegression()\n",
    "log_model.fit(x_train_scaled, y_train)"
   ]
  },
  {
   "cell_type": "code",
   "execution_count": 12,
   "metadata": {
    "execution": {
     "iopub.execute_input": "2021-12-08T19:05:15.062682Z",
     "iopub.status.busy": "2021-12-08T19:05:15.061896Z",
     "iopub.status.idle": "2021-12-08T19:05:15.074535Z",
     "shell.execute_reply": "2021-12-08T19:05:15.073739Z",
     "shell.execute_reply.started": "2021-12-08T19:05:15.062645Z"
    }
   },
   "outputs": [
    {
     "data": {
      "text/html": [
       "<div>\n",
       "<style scoped>\n",
       "    .dataframe tbody tr th:only-of-type {\n",
       "        vertical-align: middle;\n",
       "    }\n",
       "\n",
       "    .dataframe tbody tr th {\n",
       "        vertical-align: top;\n",
       "    }\n",
       "\n",
       "    .dataframe thead th {\n",
       "        text-align: right;\n",
       "    }\n",
       "</style>\n",
       "<table border=\"1\" class=\"dataframe\">\n",
       "  <thead>\n",
       "    <tr style=\"text-align: right;\">\n",
       "      <th></th>\n",
       "      <th>Weights</th>\n",
       "    </tr>\n",
       "  </thead>\n",
       "  <tbody>\n",
       "    <tr>\n",
       "      <th>Bias</th>\n",
       "      <td>0.5549</td>\n",
       "    </tr>\n",
       "    <tr>\n",
       "      <th>age</th>\n",
       "      <td>0.5457</td>\n",
       "    </tr>\n",
       "    <tr>\n",
       "      <th>interest</th>\n",
       "      <td>2.8298</td>\n",
       "    </tr>\n",
       "  </tbody>\n",
       "</table>\n",
       "</div>"
      ],
      "text/plain": [
       "          Weights\n",
       "Bias       0.5549\n",
       "age        0.5457\n",
       "interest   2.8298"
      ]
     },
     "execution_count": 12,
     "metadata": {},
     "output_type": "execute_result"
    }
   ],
   "source": [
    "bias_weights = [np.round(log_model.intercept_[0],4), np.round(log_model.coef_[0,0],4), np.round(log_model.coef_[0,1],4)]\n",
    "col_names = inputs.columns.values.tolist()\n",
    "col_names = [\"Bias\"] + col_names\n",
    "log_model_summary = pd.DataFrame(data = bias_weights, index = col_names, columns = [\"Weights\"])\n",
    "log_model_summary"
   ]
  },
  {
   "cell_type": "code",
   "execution_count": 13,
   "metadata": {
    "execution": {
     "iopub.execute_input": "2021-12-08T19:05:17.331892Z",
     "iopub.status.busy": "2021-12-08T19:05:17.331337Z",
     "iopub.status.idle": "2021-12-08T19:05:17.338318Z",
     "shell.execute_reply": "2021-12-08T19:05:17.337664Z",
     "shell.execute_reply.started": "2021-12-08T19:05:17.331828Z"
    }
   },
   "outputs": [
    {
     "data": {
      "text/plain": [
       "0.8734177215189873"
      ]
     },
     "execution_count": 13,
     "metadata": {},
     "output_type": "execute_result"
    }
   ],
   "source": [
    "log_model.score(x_train_scaled, y_train)"
   ]
  },
  {
   "cell_type": "markdown",
   "metadata": {},
   "source": [
    "**Accuracy for train and test sets**"
   ]
  },
  {
   "cell_type": "code",
   "execution_count": 14,
   "metadata": {
    "execution": {
     "iopub.execute_input": "2021-12-08T18:26:36.213713Z",
     "iopub.status.busy": "2021-12-08T18:26:36.213074Z",
     "iopub.status.idle": "2021-12-08T18:26:36.22445Z",
     "shell.execute_reply": "2021-12-08T18:26:36.223808Z",
     "shell.execute_reply.started": "2021-12-08T18:26:36.213679Z"
    }
   },
   "outputs": [
    {
     "name": "stdout",
     "output_type": "stream",
     "text": [
      "Train accuracy: 0.8734 \n",
      "Test accuracy: 0.9167\n"
     ]
    }
   ],
   "source": [
    "log_model_train_accuracy = round(log_model.score(x_train_scaled, y_train),4)\n",
    "log_model_test_accuracy = round(log_model.score(x_test_scaled, y_test),4)\n",
    "print(\"Train accuracy: {} \\nTest accuracy: {}\".format(log_model_train_accuracy, log_model_test_accuracy))"
   ]
  },
  {
   "cell_type": "markdown",
   "metadata": {},
   "source": [
    "## 2. Random Forest"
   ]
  },
  {
   "cell_type": "code",
   "execution_count": 15,
   "metadata": {
    "execution": {
     "iopub.execute_input": "2021-12-08T18:26:36.228441Z",
     "iopub.status.busy": "2021-12-08T18:26:36.227131Z",
     "iopub.status.idle": "2021-12-08T18:26:36.26414Z",
     "shell.execute_reply": "2021-12-08T18:26:36.263324Z",
     "shell.execute_reply.started": "2021-12-08T18:26:36.228356Z"
    }
   },
   "outputs": [],
   "source": [
    "# Libraries\n",
    "from sklearn.ensemble import RandomForestClassifier"
   ]
  },
  {
   "cell_type": "markdown",
   "metadata": {},
   "source": [
    "**Fitting the model**"
   ]
  },
  {
   "cell_type": "code",
   "execution_count": 16,
   "metadata": {
    "execution": {
     "iopub.execute_input": "2021-12-08T18:26:36.265553Z",
     "iopub.status.busy": "2021-12-08T18:26:36.265311Z",
     "iopub.status.idle": "2021-12-08T18:26:36.463907Z",
     "shell.execute_reply": "2021-12-08T18:26:36.463129Z",
     "shell.execute_reply.started": "2021-12-08T18:26:36.265521Z"
    }
   },
   "outputs": [
    {
     "data": {
      "text/plain": [
       "RandomForestClassifier()"
      ]
     },
     "execution_count": 16,
     "metadata": {},
     "output_type": "execute_result"
    }
   ],
   "source": [
    "rand_for = RandomForestClassifier()\n",
    "rand_for.fit(x_train_unscaled, y_train)"
   ]
  },
  {
   "cell_type": "code",
   "execution_count": 17,
   "metadata": {
    "execution": {
     "iopub.execute_input": "2021-12-08T18:26:36.465286Z",
     "iopub.status.busy": "2021-12-08T18:26:36.465055Z",
     "iopub.status.idle": "2021-12-08T18:26:36.488317Z",
     "shell.execute_reply": "2021-12-08T18:26:36.487508Z",
     "shell.execute_reply.started": "2021-12-08T18:26:36.465257Z"
    }
   },
   "outputs": [
    {
     "data": {
      "text/html": [
       "<div>\n",
       "<style scoped>\n",
       "    .dataframe tbody tr th:only-of-type {\n",
       "        vertical-align: middle;\n",
       "    }\n",
       "\n",
       "    .dataframe tbody tr th {\n",
       "        vertical-align: top;\n",
       "    }\n",
       "\n",
       "    .dataframe thead th {\n",
       "        text-align: right;\n",
       "    }\n",
       "</style>\n",
       "<table border=\"1\" class=\"dataframe\">\n",
       "  <thead>\n",
       "    <tr style=\"text-align: right;\">\n",
       "      <th></th>\n",
       "      <th>Importance</th>\n",
       "    </tr>\n",
       "  </thead>\n",
       "  <tbody>\n",
       "    <tr>\n",
       "      <th>age</th>\n",
       "      <td>0.287221</td>\n",
       "    </tr>\n",
       "    <tr>\n",
       "      <th>interest</th>\n",
       "      <td>0.712779</td>\n",
       "    </tr>\n",
       "  </tbody>\n",
       "</table>\n",
       "</div>"
      ],
      "text/plain": [
       "          Importance\n",
       "age         0.287221\n",
       "interest    0.712779"
      ]
     },
     "execution_count": 17,
     "metadata": {},
     "output_type": "execute_result"
    }
   ],
   "source": [
    "features = x_train_unscaled.columns.values.tolist()\n",
    "rand_for_summary = pd.DataFrame(rand_for.feature_importances_, index = features, columns = ['Importance'])\n",
    "rand_for_summary"
   ]
  },
  {
   "cell_type": "markdown",
   "metadata": {},
   "source": [
    "**Accuracy for train and test sets**"
   ]
  },
  {
   "cell_type": "code",
   "execution_count": 18,
   "metadata": {
    "execution": {
     "iopub.execute_input": "2021-12-08T18:26:36.490413Z",
     "iopub.status.busy": "2021-12-08T18:26:36.48996Z",
     "iopub.status.idle": "2021-12-08T18:26:36.52877Z",
     "shell.execute_reply": "2021-12-08T18:26:36.527929Z",
     "shell.execute_reply.started": "2021-12-08T18:26:36.490359Z"
    }
   },
   "outputs": [
    {
     "name": "stdout",
     "output_type": "stream",
     "text": [
      "Train accuracy: 1.0 \n",
      "Test accuracy: 0.9833\n"
     ]
    }
   ],
   "source": [
    "rand_for_train_accuracy = round(rand_for.score(x_train_unscaled, y_train),4)\n",
    "rand_for_test_accuracy = round(rand_for.score(x_test_unscaled, y_test),4)\n",
    "print(\"Train accuracy: {} \\nTest accuracy: {}\".format(rand_for_train_accuracy, rand_for_test_accuracy))"
   ]
  },
  {
   "cell_type": "markdown",
   "metadata": {},
   "source": [
    "## 3. Support Vector Machine"
   ]
  },
  {
   "cell_type": "code",
   "execution_count": 19,
   "metadata": {
    "execution": {
     "iopub.execute_input": "2021-12-08T18:26:36.530281Z",
     "iopub.status.busy": "2021-12-08T18:26:36.530048Z",
     "iopub.status.idle": "2021-12-08T18:26:36.535664Z",
     "shell.execute_reply": "2021-12-08T18:26:36.534699Z",
     "shell.execute_reply.started": "2021-12-08T18:26:36.530251Z"
    }
   },
   "outputs": [],
   "source": [
    "# Libraries\n",
    "from sklearn.svm import SVC"
   ]
  },
  {
   "cell_type": "markdown",
   "metadata": {},
   "source": [
    "**Fitting the model**"
   ]
  },
  {
   "cell_type": "code",
   "execution_count": 20,
   "metadata": {
    "execution": {
     "iopub.execute_input": "2021-12-08T18:26:36.538551Z",
     "iopub.status.busy": "2021-12-08T18:26:36.537812Z",
     "iopub.status.idle": "2021-12-08T18:26:36.551867Z",
     "shell.execute_reply": "2021-12-08T18:26:36.55111Z",
     "shell.execute_reply.started": "2021-12-08T18:26:36.538506Z"
    }
   },
   "outputs": [
    {
     "data": {
      "text/plain": [
       "SVC()"
      ]
     },
     "execution_count": 20,
     "metadata": {},
     "output_type": "execute_result"
    }
   ],
   "source": [
    "svm_model = SVC()\n",
    "svm_model.fit(x_train_scaled, y_train)"
   ]
  },
  {
   "cell_type": "markdown",
   "metadata": {},
   "source": []
  },
  {
   "cell_type": "markdown",
   "metadata": {},
   "source": [
    "**Accuracy for train and test sets**"
   ]
  },
  {
   "cell_type": "code",
   "execution_count": 21,
   "metadata": {
    "execution": {
     "iopub.execute_input": "2021-12-08T18:26:36.553969Z",
     "iopub.status.busy": "2021-12-08T18:26:36.553348Z",
     "iopub.status.idle": "2021-12-08T18:26:36.563015Z",
     "shell.execute_reply": "2021-12-08T18:26:36.562442Z",
     "shell.execute_reply.started": "2021-12-08T18:26:36.553926Z"
    }
   },
   "outputs": [
    {
     "name": "stdout",
     "output_type": "stream",
     "text": [
      "Train accuracy: 0.9494 \n",
      "Test accuracy: 0.9833\n"
     ]
    }
   ],
   "source": [
    "svm_model_train_accuracy = round(svm_model.score(x_train_scaled, y_train),4)\n",
    "svm_model_test_accuracy = round(svm_model.score(x_test_scaled, y_test),4)\n",
    "print(\"Train accuracy: {} \\nTest accuracy: {}\".format(svm_model_train_accuracy, svm_model_test_accuracy))"
   ]
  },
  {
   "cell_type": "markdown",
   "metadata": {},
   "source": [
    "## 4. K-Nearest Neighbors"
   ]
  },
  {
   "cell_type": "code",
   "execution_count": 22,
   "metadata": {
    "execution": {
     "iopub.execute_input": "2021-12-08T18:26:36.564082Z",
     "iopub.status.busy": "2021-12-08T18:26:36.563879Z",
     "iopub.status.idle": "2021-12-08T18:26:36.570844Z",
     "shell.execute_reply": "2021-12-08T18:26:36.570133Z",
     "shell.execute_reply.started": "2021-12-08T18:26:36.564057Z"
    }
   },
   "outputs": [],
   "source": [
    "# Libraries\n",
    "from sklearn.neighbors import KNeighborsClassifier"
   ]
  },
  {
   "cell_type": "markdown",
   "metadata": {},
   "source": [
    "**Fitting the Model**"
   ]
  },
  {
   "cell_type": "code",
   "execution_count": 23,
   "metadata": {
    "execution": {
     "iopub.execute_input": "2021-12-08T18:26:36.571981Z",
     "iopub.status.busy": "2021-12-08T18:26:36.57176Z",
     "iopub.status.idle": "2021-12-08T18:26:36.588633Z",
     "shell.execute_reply": "2021-12-08T18:26:36.587935Z",
     "shell.execute_reply.started": "2021-12-08T18:26:36.571955Z"
    }
   },
   "outputs": [
    {
     "data": {
      "text/plain": [
       "KNeighborsClassifier()"
      ]
     },
     "execution_count": 23,
     "metadata": {},
     "output_type": "execute_result"
    }
   ],
   "source": [
    "knn_model = KNeighborsClassifier()\n",
    "knn_model.fit(x_train_scaled, y_train)"
   ]
  },
  {
   "cell_type": "markdown",
   "metadata": {},
   "source": [
    "**Accuracy for train and test sets**"
   ]
  },
  {
   "cell_type": "code",
   "execution_count": 24,
   "metadata": {
    "execution": {
     "iopub.execute_input": "2021-12-08T18:26:36.59018Z",
     "iopub.status.busy": "2021-12-08T18:26:36.589792Z",
     "iopub.status.idle": "2021-12-08T18:26:36.612842Z",
     "shell.execute_reply": "2021-12-08T18:26:36.612264Z",
     "shell.execute_reply.started": "2021-12-08T18:26:36.590142Z"
    }
   },
   "outputs": [
    {
     "name": "stdout",
     "output_type": "stream",
     "text": [
      "Train accuracy: 0.9578 \n",
      "Test accuracy: 0.9833\n"
     ]
    }
   ],
   "source": [
    "knn_model_train_accuracy = round(knn_model.score(x_train_scaled, y_train), 4)\n",
    "knn_model_test_accuracy = round(knn_model.score(x_test_scaled, y_test), 4)\n",
    "print(\"Train accuracy: {} \\nTest accuracy: {}\".format(knn_model_train_accuracy, knn_model_test_accuracy))"
   ]
  },
  {
   "cell_type": "markdown",
   "metadata": {},
   "source": [
    "## 5. Neural Network"
   ]
  },
  {
   "cell_type": "code",
   "execution_count": 25,
   "metadata": {
    "execution": {
     "iopub.execute_input": "2021-12-08T18:26:36.614203Z",
     "iopub.status.busy": "2021-12-08T18:26:36.613888Z",
     "iopub.status.idle": "2021-12-08T18:26:38.277185Z",
     "shell.execute_reply": "2021-12-08T18:26:38.276459Z",
     "shell.execute_reply.started": "2021-12-08T18:26:36.614175Z"
    }
   },
   "outputs": [],
   "source": [
    "# Libraries\n",
    "import tensorflow as tf"
   ]
  },
  {
   "cell_type": "code",
   "execution_count": 26,
   "metadata": {
    "execution": {
     "iopub.execute_input": "2021-12-08T18:26:38.278716Z",
     "iopub.status.busy": "2021-12-08T18:26:38.278351Z",
     "iopub.status.idle": "2021-12-08T18:26:38.290531Z",
     "shell.execute_reply": "2021-12-08T18:26:38.289493Z",
     "shell.execute_reply.started": "2021-12-08T18:26:38.278686Z"
    }
   },
   "outputs": [],
   "source": [
    "# Separate a validation set from training set\n",
    "train_inputs, validation_inputs, train_targets, validation_targets = train_test_split(x_train_scaled, y_train, \n",
    "                                                                                      train_size = 0.8, \n",
    "                                                                                      shuffle = True, random_state = 42)\n",
    "train_inputs = tf.convert_to_tensor(train_inputs)\n",
    "validation_inputs = tf.convert_to_tensor(validation_inputs)\n",
    "train_targets = tf.convert_to_tensor(train_targets)\n",
    "validation_targets = tf.convert_to_tensor(validation_targets)"
   ]
  },
  {
   "cell_type": "markdown",
   "metadata": {},
   "source": [
    "**Fitting the model**"
   ]
  },
  {
   "cell_type": "code",
   "execution_count": 27,
   "metadata": {
    "execution": {
     "iopub.execute_input": "2021-12-08T18:34:17.051376Z",
     "iopub.status.busy": "2021-12-08T18:34:17.051109Z",
     "iopub.status.idle": "2021-12-08T18:34:17.977059Z",
     "shell.execute_reply": "2021-12-08T18:34:17.976006Z",
     "shell.execute_reply.started": "2021-12-08T18:34:17.051348Z"
    }
   },
   "outputs": [
    {
     "name": "stdout",
     "output_type": "stream",
     "text": [
      "Epoch 1/50\n",
      "6/6 - 2s - loss: 0.5699 - accuracy: 0.7619 - val_loss: 0.4138 - val_accuracy: 0.8542 - 2s/epoch - 414ms/step\n",
      "Epoch 2/50\n",
      "6/6 - 0s - loss: 0.3809 - accuracy: 0.8889 - val_loss: 0.3149 - val_accuracy: 0.8958 - 51ms/epoch - 9ms/step\n",
      "Epoch 3/50\n",
      "6/6 - 0s - loss: 0.2967 - accuracy: 0.8995 - val_loss: 0.3000 - val_accuracy: 0.8750 - 36ms/epoch - 6ms/step\n",
      "Epoch 4/50\n",
      "6/6 - 0s - loss: 0.2644 - accuracy: 0.8942 - val_loss: 0.3126 - val_accuracy: 0.8958 - 34ms/epoch - 6ms/step\n",
      "Epoch 5/50\n",
      "6/6 - 0s - loss: 0.2592 - accuracy: 0.8995 - val_loss: 0.3169 - val_accuracy: 0.8958 - 35ms/epoch - 6ms/step\n"
     ]
    },
    {
     "data": {
      "text/plain": [
       "<keras.callbacks.History at 0x15e3d364220>"
      ]
     },
     "execution_count": 27,
     "metadata": {},
     "output_type": "execute_result"
    }
   ],
   "source": [
    "input_size = 2\n",
    "output_size = 2\n",
    "hidden_layer_size = 300\n",
    "\n",
    "NN_model = tf.keras.Sequential([\n",
    "                               tf.keras.layers.Dense(hidden_layer_size, activation = 'relu'),\n",
    "                               tf.keras.layers.Dense(hidden_layer_size, activation = 'relu'),\n",
    "                               tf.keras.layers.Dense(output_size, activation = 'softmax')\n",
    "                               ])\n",
    "\n",
    "NN_model.compile(optimizer = 'adam', loss = 'sparse_categorical_crossentropy', metrics = ['accuracy'])\n",
    "\n",
    "batch_size = 100\n",
    "max_epochs = 50\n",
    "early_stopping = tf.keras.callbacks.EarlyStopping(patience=2) \n",
    "\n",
    "NN_model.fit(train_inputs, train_targets,\n",
    "         #batch_size = batch_size,\n",
    "         epochs = max_epochs,\n",
    "         callbacks = [early_stopping],\n",
    "         validation_data = (validation_inputs, validation_targets),\n",
    "         verbose = 2)"
   ]
  },
  {
   "cell_type": "markdown",
   "metadata": {},
   "source": [
    "**Accuracy for train and test sets**"
   ]
  },
  {
   "cell_type": "code",
   "execution_count": 28,
   "metadata": {
    "execution": {
     "iopub.execute_input": "2021-12-08T18:34:29.390965Z",
     "iopub.status.busy": "2021-12-08T18:34:29.390651Z",
     "iopub.status.idle": "2021-12-08T18:34:29.672756Z",
     "shell.execute_reply": "2021-12-08T18:34:29.671915Z",
     "shell.execute_reply.started": "2021-12-08T18:34:29.39093Z"
    }
   },
   "outputs": [
    {
     "name": "stdout",
     "output_type": "stream",
     "text": [
      "8/8 [==============================] - 0s 4ms/step - loss: 0.2638 - accuracy: 0.9072\n",
      "2/2 [==============================] - 0s 2ms/step - loss: 0.1017 - accuracy: 0.9833\n",
      "Train accuracy: 0.9072 \n",
      "Test accuracy: 0.9833\n"
     ]
    }
   ],
   "source": [
    "NN_model_train_accuracy = round(NN_model.evaluate(x_train_scaled, y_train)[1],4)\n",
    "NN_model_test_accuracy = round(NN_model.evaluate(x_test_scaled, y_test)[1],4)\n",
    "print(\"Train accuracy: {} \\nTest accuracy: {}\".format(NN_model_train_accuracy, NN_model_test_accuracy))"
   ]
  },
  {
   "cell_type": "markdown",
   "metadata": {},
   "source": [
    "## Summary"
   ]
  },
  {
   "cell_type": "code",
   "execution_count": 29,
   "metadata": {
    "execution": {
     "iopub.execute_input": "2021-12-08T18:26:40.623967Z",
     "iopub.status.busy": "2021-12-08T18:26:40.623682Z",
     "iopub.status.idle": "2021-12-08T18:26:40.641344Z",
     "shell.execute_reply": "2021-12-08T18:26:40.640402Z",
     "shell.execute_reply.started": "2021-12-08T18:26:40.623936Z"
    }
   },
   "outputs": [
    {
     "data": {
      "text/html": [
       "<div>\n",
       "<style scoped>\n",
       "    .dataframe tbody tr th:only-of-type {\n",
       "        vertical-align: middle;\n",
       "    }\n",
       "\n",
       "    .dataframe tbody tr th {\n",
       "        vertical-align: top;\n",
       "    }\n",
       "\n",
       "    .dataframe thead th {\n",
       "        text-align: right;\n",
       "    }\n",
       "</style>\n",
       "<table border=\"1\" class=\"dataframe\">\n",
       "  <thead>\n",
       "    <tr style=\"text-align: right;\">\n",
       "      <th></th>\n",
       "      <th>Train Accuracy</th>\n",
       "      <th>Test Accuracy</th>\n",
       "    </tr>\n",
       "  </thead>\n",
       "  <tbody>\n",
       "    <tr>\n",
       "      <th>Random Forest</th>\n",
       "      <td>1.0000</td>\n",
       "      <td>0.9833</td>\n",
       "    </tr>\n",
       "    <tr>\n",
       "      <th>Support Vector Machine</th>\n",
       "      <td>0.9494</td>\n",
       "      <td>0.9833</td>\n",
       "    </tr>\n",
       "    <tr>\n",
       "      <th>K-Nearest Neighbors</th>\n",
       "      <td>0.9578</td>\n",
       "      <td>0.9833</td>\n",
       "    </tr>\n",
       "    <tr>\n",
       "      <th>Neural Network</th>\n",
       "      <td>0.9072</td>\n",
       "      <td>0.9833</td>\n",
       "    </tr>\n",
       "    <tr>\n",
       "      <th>Logistic Regression</th>\n",
       "      <td>0.8734</td>\n",
       "      <td>0.9167</td>\n",
       "    </tr>\n",
       "  </tbody>\n",
       "</table>\n",
       "</div>"
      ],
      "text/plain": [
       "                        Train Accuracy  Test Accuracy\n",
       "Random Forest                   1.0000         0.9833\n",
       "Support Vector Machine          0.9494         0.9833\n",
       "K-Nearest Neighbors             0.9578         0.9833\n",
       "Neural Network                  0.9072         0.9833\n",
       "Logistic Regression             0.8734         0.9167"
      ]
     },
     "execution_count": 29,
     "metadata": {},
     "output_type": "execute_result"
    }
   ],
   "source": [
    "accuracy_values = {'Train Accuracy':[log_model_train_accuracy, rand_for_train_accuracy, svm_model_train_accuracy, \n",
    "                         knn_model_train_accuracy, NN_model_train_accuracy], \n",
    "                   'Test Accuracy': [log_model_test_accuracy, rand_for_test_accuracy, svm_model_test_accuracy, \n",
    "                         knn_model_test_accuracy, NN_model_test_accuracy]}\n",
    "index_values = ['Logistic Regression', 'Random Forest', 'Support Vector Machine', 'K-Nearest Neighbors', 'Neural Network']\n",
    "summary_accuracy = pd.DataFrame(accuracy_values, index = index_values)\n",
    "summary_accuracy = summary_accuracy.sort_values(by = 'Test Accuracy', ascending = False)\n",
    "summary_accuracy"
   ]
  }
 ],
 "metadata": {
  "kernelspec": {
   "display_name": "Python 3",
   "language": "python",
   "name": "python3"
  },
  "language_info": {
   "codemirror_mode": {
    "name": "ipython",
    "version": 3
   },
   "file_extension": ".py",
   "mimetype": "text/x-python",
   "name": "python",
   "nbconvert_exporter": "python",
   "pygments_lexer": "ipython3",
   "version": "3.8.8"
  }
 },
 "nbformat": 4,
 "nbformat_minor": 4
}
